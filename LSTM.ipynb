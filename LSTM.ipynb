{
  "nbformat": 4,
  "nbformat_minor": 0,
  "metadata": {
    "colab": {
      "provenance": [],
      "gpuType": "T4"
    },
    "kernelspec": {
      "name": "python3",
      "display_name": "Python 3"
    },
    "language_info": {
      "name": "python"
    },
    "accelerator": "GPU"
  },
  "cells": [
    {
      "cell_type": "markdown",
      "source": [
        "#APPROACHES:\n",
        "\n",
        "1. Load the libraries and data.\n",
        "2. Clean the data.\n",
        "3. Tokenize the data.\n",
        "4. Convert to Sequence.\n",
        "5. Input Sequence and Output Sequence.\n",
        "6. Create the Sequential model.\n",
        "7. LSTM Layers.\n",
        "8. Compile the model.\n",
        "9. Fit the model.\n",
        "10. Evaluate the model."
      ],
      "metadata": {
        "id": "EFNEjPa3dqRl"
      }
    },
    {
      "cell_type": "markdown",
      "source": [
        "### Importing:"
      ],
      "metadata": {
        "id": "5Zc2JYsgeSu9"
      }
    },
    {
      "cell_type": "code",
      "source": [
        "from random import randint\n",
        "from pickle import load, dump\n",
        "from tensorflow.keras.models import load_model\n",
        "from tensorflow.keras.preprocessing.sequence import pad_sequences\n",
        "from numpy import array\n",
        "from tensorflow.keras.preprocessing.text import Tokenizer\n",
        "from tensorflow.keras.utils import to_categorical\n",
        "from tensorflow.keras.models import Sequential\n",
        "from tensorflow.keras.layers import Dense, LSTM, Embedding, Dropout\n",
        "from tensorflow.keras.callbacks import ModelCheckpoint\n",
        "import string\n",
        "\n",
        "# It help to get the data from the url\n",
        "import urllib.request\n",
        "import numpy as np\n",
        "import pandas as pd\n",
        "import matplotlib.pyplot as plt"
      ],
      "metadata": {
        "id": "CAV7N5-XeMi0"
      },
      "execution_count": 2,
      "outputs": []
    },
    {
      "cell_type": "code",
      "source": [
        "response = urllib.request.urlopen('https://raw.githubusercontent.com/insaid2018/DeepLearning/master/Data/republic_clean.txt?_sm_au_=iVV10f0f2kPt2J07')\n",
        "doc = response.read().decode('utf8')"
      ],
      "metadata": {
        "id": "O0xCLGmLe-WT"
      },
      "execution_count": 3,
      "outputs": []
    },
    {
      "cell_type": "code",
      "source": [
        "print(doc[:100])"
      ],
      "metadata": {
        "colab": {
          "base_uri": "https://localhost:8080/"
        },
        "id": "4TRZNx00lDAG",
        "outputId": "35a33b75-5687-4b65-8f20-b3a0b2a5538f"
      },
      "execution_count": 4,
      "outputs": [
        {
          "output_type": "stream",
          "name": "stdout",
          "text": [
            "﻿\rBOOK I.\r\r\n",
            "\r\r\n",
            "I went down yesterday to the Piraeus with Glaucon the son of Ariston,\r\r\n",
            "that I might \n"
          ]
        }
      ]
    },
    {
      "cell_type": "markdown",
      "source": [
        "### CLEANING :"
      ],
      "metadata": {
        "id": "MuebZteTlreO"
      }
    },
    {
      "cell_type": "code",
      "source": [
        "def clean_doc(doc):\n",
        "  #replace '--' with space ' '\n",
        "  doc = doc.replace('--', ' ')\n",
        "  #split into tokens by white space\n",
        "  tokens = doc.split()\n",
        "  #remove punctuation from each token\n",
        "  table = str.maketrans('', '', string.punctuation)\n",
        "  tokens = [w.translate(table) for w in tokens]\n",
        "  #remove remaining tokens that are not alphabetic\n",
        "  tokens = [word for word in tokens if word.isalpha()]\n",
        "  #make lower case\n",
        "  tokens = [word.lower() for word in tokens]\n",
        "  return tokens\n",
        "\n",
        "tokens = clean_doc(doc)"
      ],
      "metadata": {
        "id": "Ts0Y1PkolIjc"
      },
      "execution_count": 5,
      "outputs": []
    },
    {
      "cell_type": "code",
      "source": [
        "tokens[:100]"
      ],
      "metadata": {
        "colab": {
          "base_uri": "https://localhost:8080/"
        },
        "id": "TVlpQ1hAmQMq",
        "outputId": "946c16a0-5443-422b-d4f5-0ed58ba6d2d7"
      },
      "execution_count": 6,
      "outputs": [
        {
          "output_type": "execute_result",
          "data": {
            "text/plain": [
              "['book',\n",
              " 'i',\n",
              " 'i',\n",
              " 'went',\n",
              " 'down',\n",
              " 'yesterday',\n",
              " 'to',\n",
              " 'the',\n",
              " 'piraeus',\n",
              " 'with',\n",
              " 'glaucon',\n",
              " 'the',\n",
              " 'son',\n",
              " 'of',\n",
              " 'ariston',\n",
              " 'that',\n",
              " 'i',\n",
              " 'might',\n",
              " 'offer',\n",
              " 'up',\n",
              " 'my',\n",
              " 'prayers',\n",
              " 'to',\n",
              " 'the',\n",
              " 'goddess',\n",
              " 'bendis',\n",
              " 'the',\n",
              " 'thracian',\n",
              " 'artemis',\n",
              " 'and',\n",
              " 'also',\n",
              " 'because',\n",
              " 'i',\n",
              " 'wanted',\n",
              " 'to',\n",
              " 'see',\n",
              " 'in',\n",
              " 'what',\n",
              " 'manner',\n",
              " 'they',\n",
              " 'would',\n",
              " 'celebrate',\n",
              " 'the',\n",
              " 'festival',\n",
              " 'which',\n",
              " 'was',\n",
              " 'a',\n",
              " 'new',\n",
              " 'thing',\n",
              " 'i',\n",
              " 'was',\n",
              " 'delighted',\n",
              " 'with',\n",
              " 'the',\n",
              " 'procession',\n",
              " 'of',\n",
              " 'the',\n",
              " 'inhabitants',\n",
              " 'but',\n",
              " 'that',\n",
              " 'of',\n",
              " 'the',\n",
              " 'thracians',\n",
              " 'was',\n",
              " 'equally',\n",
              " 'if',\n",
              " 'not',\n",
              " 'more',\n",
              " 'beautiful',\n",
              " 'when',\n",
              " 'we',\n",
              " 'had',\n",
              " 'finished',\n",
              " 'our',\n",
              " 'prayers',\n",
              " 'and',\n",
              " 'viewed',\n",
              " 'the',\n",
              " 'spectacle',\n",
              " 'we',\n",
              " 'turned',\n",
              " 'in',\n",
              " 'the',\n",
              " 'direction',\n",
              " 'of',\n",
              " 'the',\n",
              " 'city',\n",
              " 'and',\n",
              " 'at',\n",
              " 'that',\n",
              " 'instant',\n",
              " 'polemarchus',\n",
              " 'the',\n",
              " 'son',\n",
              " 'of',\n",
              " 'cephalus',\n",
              " 'chanced',\n",
              " 'to',\n",
              " 'catch',\n",
              " 'sight']"
            ]
          },
          "metadata": {},
          "execution_count": 6
        }
      ]
    },
    {
      "cell_type": "code",
      "source": [
        "print('The total tokens: ', len(tokens))\n",
        "print('The unique tokens: ', len(set(tokens)))\n",
        "#Corpus : Total token\n",
        "#Vocabulary : Unique Token."
      ],
      "metadata": {
        "colab": {
          "base_uri": "https://localhost:8080/"
        },
        "id": "vEfJrM7dnHCs",
        "outputId": "f9f350a9-7b35-4566-a47b-b4dcfa73f112"
      },
      "execution_count": 7,
      "outputs": [
        {
          "output_type": "stream",
          "name": "stdout",
          "text": [
            "The total tokens:  118684\n",
            "The unique tokens:  7409\n"
          ]
        }
      ]
    },
    {
      "cell_type": "markdown",
      "source": [
        "### CREATE SEQUENCES:"
      ],
      "metadata": {
        "id": "mD-p__2wn8K9"
      }
    },
    {
      "cell_type": "code",
      "source": [
        "#In 1st sequence 50 words are stored\n",
        "#In 2nd sequence 1st token in 1st sequnece dropped and new word is added at the end of the sequence.\n",
        "\n",
        "length = 50\n",
        "sequences = list()\n",
        "for i in range(length, len(tokens)):\n",
        "  #select sequence of tokens\n",
        "  seq = tokens[i-length:i]\n",
        "  #convert into a line\n",
        "  line = ' '.join(seq)\n",
        "  #store in sequences list\n",
        "  sequences.append(line)\n",
        "print('Total Sequences: %d' % len(sequences))"
      ],
      "metadata": {
        "colab": {
          "base_uri": "https://localhost:8080/"
        },
        "id": "tuu5lnwOnee3",
        "outputId": "a0a6f910-2cc7-49f7-c793-5db4cf2037b2"
      },
      "execution_count": 8,
      "outputs": [
        {
          "output_type": "stream",
          "name": "stdout",
          "text": [
            "Total Sequences: 118634\n"
          ]
        }
      ]
    },
    {
      "cell_type": "code",
      "source": [
        "sequences[:10]"
      ],
      "metadata": {
        "colab": {
          "base_uri": "https://localhost:8080/"
        },
        "id": "6mCfzf7Lpdin",
        "outputId": "b1a45743-7cc4-4334-eaf7-dfc65e0b5d69"
      },
      "execution_count": 9,
      "outputs": [
        {
          "output_type": "execute_result",
          "data": {
            "text/plain": [
              "['book i i went down yesterday to the piraeus with glaucon the son of ariston that i might offer up my prayers to the goddess bendis the thracian artemis and also because i wanted to see in what manner they would celebrate the festival which was a new thing i',\n",
              " 'i i went down yesterday to the piraeus with glaucon the son of ariston that i might offer up my prayers to the goddess bendis the thracian artemis and also because i wanted to see in what manner they would celebrate the festival which was a new thing i was',\n",
              " 'i went down yesterday to the piraeus with glaucon the son of ariston that i might offer up my prayers to the goddess bendis the thracian artemis and also because i wanted to see in what manner they would celebrate the festival which was a new thing i was delighted',\n",
              " 'went down yesterday to the piraeus with glaucon the son of ariston that i might offer up my prayers to the goddess bendis the thracian artemis and also because i wanted to see in what manner they would celebrate the festival which was a new thing i was delighted with',\n",
              " 'down yesterday to the piraeus with glaucon the son of ariston that i might offer up my prayers to the goddess bendis the thracian artemis and also because i wanted to see in what manner they would celebrate the festival which was a new thing i was delighted with the',\n",
              " 'yesterday to the piraeus with glaucon the son of ariston that i might offer up my prayers to the goddess bendis the thracian artemis and also because i wanted to see in what manner they would celebrate the festival which was a new thing i was delighted with the procession',\n",
              " 'to the piraeus with glaucon the son of ariston that i might offer up my prayers to the goddess bendis the thracian artemis and also because i wanted to see in what manner they would celebrate the festival which was a new thing i was delighted with the procession of',\n",
              " 'the piraeus with glaucon the son of ariston that i might offer up my prayers to the goddess bendis the thracian artemis and also because i wanted to see in what manner they would celebrate the festival which was a new thing i was delighted with the procession of the',\n",
              " 'piraeus with glaucon the son of ariston that i might offer up my prayers to the goddess bendis the thracian artemis and also because i wanted to see in what manner they would celebrate the festival which was a new thing i was delighted with the procession of the inhabitants',\n",
              " 'with glaucon the son of ariston that i might offer up my prayers to the goddess bendis the thracian artemis and also because i wanted to see in what manner they would celebrate the festival which was a new thing i was delighted with the procession of the inhabitants but']"
            ]
          },
          "metadata": {},
          "execution_count": 9
        }
      ]
    },
    {
      "cell_type": "code",
      "source": [
        "# The answer from the above code is stored in seperate file as soft copy in your hardware\n",
        "#Though you can see the sequence output some times you may loss the data,by this you can easily backup the data.\n",
        "\n",
        "#save tokens to file, one dailog per line\n",
        "def save_doc(lines, filename):\n",
        "  data = '\\n'.join(lines)\n",
        "  file = open(filename, 'w')\n",
        "  file.write(data)\n",
        "  file.close()\n",
        "\n",
        "#save sequences to file\n",
        "out_filename = 'republic_sequences.txt'\n",
        "save_doc(sequences, out_filename)"
      ],
      "metadata": {
        "id": "RgvHODoJphVn"
      },
      "execution_count": 10,
      "outputs": []
    },
    {
      "cell_type": "code",
      "source": [
        "def load_doc(filename):\n",
        "    #open the file as read only\n",
        "    file = open(filename, 'r')\n",
        "    #read all text\n",
        "    text = file.read()\n",
        "    #close the file\n",
        "    file.close()\n",
        "    return text\n",
        "\n",
        "#load\n",
        "in_filename = 'republic_sequences.txt'\n",
        "doc = load_doc(in_filename)\n",
        "lines = doc.split('\\n')"
      ],
      "metadata": {
        "id": "CuayL9SqqpRS"
      },
      "execution_count": 11,
      "outputs": []
    },
    {
      "cell_type": "markdown",
      "source": [
        "This may help you to get the data that you stored in above in your hardware."
      ],
      "metadata": {
        "id": "58nq-D0Irwyt"
      }
    },
    {
      "cell_type": "markdown",
      "source": [
        "### Tokenize and convert the data into sequences."
      ],
      "metadata": {
        "id": "QjqOYvt5r4xv"
      }
    },
    {
      "cell_type": "code",
      "source": [
        "tokenizer = Tokenizer()\n",
        "tokenizer.fit_on_texts(lines)\n",
        "sequences = tokenizer.texts_to_sequences(lines)"
      ],
      "metadata": {
        "id": "LycBvVOXrs_K"
      },
      "execution_count": 12,
      "outputs": []
    },
    {
      "cell_type": "markdown",
      "source": [
        "This assign the integer value to the tokens."
      ],
      "metadata": {
        "id": "STc4gIYTsZU7"
      }
    },
    {
      "cell_type": "markdown",
      "source": [
        "### Convert the sequences to an array:"
      ],
      "metadata": {
        "id": "UtcahPEJsn-3"
      }
    },
    {
      "cell_type": "code",
      "source": [
        "sequences = array(sequences)"
      ],
      "metadata": {
        "id": "mjrWMMa9sIs1"
      },
      "execution_count": 13,
      "outputs": []
    },
    {
      "cell_type": "code",
      "source": [
        "sequences"
      ],
      "metadata": {
        "colab": {
          "base_uri": "https://localhost:8080/"
        },
        "id": "0WZ1fvRBszTB",
        "outputId": "b7c3a781-d721-466f-9889-acde145dede1"
      },
      "execution_count": 14,
      "outputs": [
        {
          "output_type": "execute_result",
          "data": {
            "text/plain": [
              "array([[1046,   11,   11, ...,  549,  151,   11],\n",
              "       [  11,   11, 1045, ...,  151,   11,   57],\n",
              "       [  11, 1045,  329, ...,   11,   57, 1147],\n",
              "       ...,\n",
              "       [ 467,    4,   33, ...,  414,   13,   21],\n",
              "       [   4,   33,   79, ...,   13,   21,   23],\n",
              "       [  33,   79,    2, ...,   21,   23,   85]])"
            ]
          },
          "metadata": {},
          "execution_count": 14
        }
      ]
    },
    {
      "cell_type": "code",
      "source": [
        "#To see first 50 token that is one sequence.\n",
        "\n",
        "sequences[0]"
      ],
      "metadata": {
        "colab": {
          "base_uri": "https://localhost:8080/"
        },
        "id": "BPD__G6Os1T5",
        "outputId": "5c96d127-139d-4d8e-98d1-f5742f1b9835"
      },
      "execution_count": 15,
      "outputs": [
        {
          "output_type": "execute_result",
          "data": {
            "text/plain": [
              "array([1046,   11,   11, 1045,  329, 7409,    4,    1, 2873,   35,  213,\n",
              "          1,  261,    3, 2251,    9,   11,  179,  817,  123,   92, 2872,\n",
              "          4,    1, 2249, 7408,    1, 7407, 7406,    2,   75,  120,   11,\n",
              "       1266,    4,  110,    6,   30,  168,   16,   49, 7405,    1, 1609,\n",
              "         13,   57,    8,  549,  151,   11])"
            ]
          },
          "metadata": {},
          "execution_count": 15
        }
      ]
    },
    {
      "cell_type": "markdown",
      "source": [
        "          X                       Y\n",
        "\n",
        "Jack and jill went up the _____ |  hill\n",
        "\n",
        "*In the above line we going to predict hill, so hill is in the Y. For next line the hill is in the input section..*\n",
        "\n",
        "and jill went up the hill _____ | to\n",
        "\n",
        "jill went up the hill to  _____ | fetch\n",
        "\n",
        "went up the hill to fetch _____ |   a"
      ],
      "metadata": {
        "id": "koAOSgPTtK8q"
      }
    },
    {
      "cell_type": "code",
      "source": [
        " sequences[0]"
      ],
      "metadata": {
        "colab": {
          "base_uri": "https://localhost:8080/"
        },
        "id": "CU3AyabSu1QS",
        "outputId": "9d2ff05b-bf09-4a16-deb0-2caee51d9356"
      },
      "execution_count": 16,
      "outputs": [
        {
          "output_type": "execute_result",
          "data": {
            "text/plain": [
              "array([1046,   11,   11, 1045,  329, 7409,    4,    1, 2873,   35,  213,\n",
              "          1,  261,    3, 2251,    9,   11,  179,  817,  123,   92, 2872,\n",
              "          4,    1, 2249, 7408,    1, 7407, 7406,    2,   75,  120,   11,\n",
              "       1266,    4,  110,    6,   30,  168,   16,   49, 7405,    1, 1609,\n",
              "         13,   57,    8,  549,  151,   11])"
            ]
          },
          "metadata": {},
          "execution_count": 16
        }
      ]
    },
    {
      "cell_type": "markdown",
      "source": [
        "### X & Y"
      ],
      "metadata": {
        "id": "v4TgPbMnuq1H"
      }
    },
    {
      "cell_type": "code",
      "source": [
        "x,y = sequences[:,:-1], sequences[:,-1]"
      ],
      "metadata": {
        "id": "zkfAmQwrtCmy"
      },
      "execution_count": 17,
      "outputs": []
    },
    {
      "cell_type": "code",
      "source": [
        "x[0]"
      ],
      "metadata": {
        "colab": {
          "base_uri": "https://localhost:8080/"
        },
        "id": "1VhG80T2uvkK",
        "outputId": "cb928d9d-6921-4442-b6d2-1e31b9be6c52"
      },
      "execution_count": 18,
      "outputs": [
        {
          "output_type": "execute_result",
          "data": {
            "text/plain": [
              "array([1046,   11,   11, 1045,  329, 7409,    4,    1, 2873,   35,  213,\n",
              "          1,  261,    3, 2251,    9,   11,  179,  817,  123,   92, 2872,\n",
              "          4,    1, 2249, 7408,    1, 7407, 7406,    2,   75,  120,   11,\n",
              "       1266,    4,  110,    6,   30,  168,   16,   49, 7405,    1, 1609,\n",
              "         13,   57,    8,  549,  151])"
            ]
          },
          "metadata": {},
          "execution_count": 18
        }
      ]
    },
    {
      "cell_type": "code",
      "source": [
        "y[0]"
      ],
      "metadata": {
        "colab": {
          "base_uri": "https://localhost:8080/"
        },
        "id": "LvLRD4APuxIN",
        "outputId": "92e10a5a-efe9-4d7c-aa3c-d979aac0e129"
      },
      "execution_count": 19,
      "outputs": [
        {
          "output_type": "execute_result",
          "data": {
            "text/plain": [
              "11"
            ]
          },
          "metadata": {},
          "execution_count": 19
        }
      ]
    },
    {
      "cell_type": "markdown",
      "source": [
        "### Crate an LSTM model:"
      ],
      "metadata": {
        "id": "QlfiHufbvsxK"
      }
    },
    {
      "cell_type": "code",
      "source": [
        "vocab_size = len(tokenizer.word_index) + 1\n",
        "print(vocab_size)\n",
        "y = to_categorical(y, num_classes=vocab_size)"
      ],
      "metadata": {
        "colab": {
          "base_uri": "https://localhost:8080/"
        },
        "id": "lizZlqtvuztV",
        "outputId": "4c666010-f82e-43ca-e68a-ad1e2ace0221"
      },
      "execution_count": 20,
      "outputs": [
        {
          "output_type": "stream",
          "name": "stdout",
          "text": [
            "7410\n"
          ]
        }
      ]
    },
    {
      "cell_type": "code",
      "source": [
        "x.shape[1]"
      ],
      "metadata": {
        "colab": {
          "base_uri": "https://localhost:8080/"
        },
        "id": "nCQetMmAxvkV",
        "outputId": "36d362d5-acee-432f-9cc7-5603a5782c9f"
      },
      "execution_count": 21,
      "outputs": [
        {
          "output_type": "execute_result",
          "data": {
            "text/plain": [
              "49"
            ]
          },
          "metadata": {},
          "execution_count": 21
        }
      ]
    },
    {
      "cell_type": "markdown",
      "source": [
        "            X                          Y\n",
        "                                      51             7409 - voc\n",
        "                                       |              |\n",
        "[1 2 3 4 ............50]-------------[0 0 0 0 0 1 0 0 0 0 0 0  0 ]\n",
        "\n",
        "[2 3 4 5 ............51]-------------[0 0 0 0 0 0 1 0 0 0 0 0  0 ]\n",
        "\n",
        "*As we giving the continous number like 1 2 .. 49 50 to find next that is 51 the model think this is an regression problem. But our problem is classification for that we encoded.*"
      ],
      "metadata": {
        "id": "9lJula1ywQzZ"
      }
    },
    {
      "cell_type": "code",
      "source": [
        "model = Sequential()\n",
        "model.add(Embedding(vocab_size, 100, input_length=x.shape[1])) # Embedding Layer\n",
        "model.add(LSTM(100, return_sequences=True)) # LSTM Layer 1\n",
        "model.add(LSTM(100)) #LSTM Layer2\n",
        "model.add(Dense(100, activation='relu')) #Fully Connected Layer 1(Classiication Layer)\n",
        "model.add(Dense(vocab_size, activation='softmax')) #Output Layer"
      ],
      "metadata": {
        "colab": {
          "base_uri": "https://localhost:8080/"
        },
        "id": "tsXGGEgZwOhY",
        "outputId": "c1a1f754-17ec-4a1b-b7fe-a2446c19748b"
      },
      "execution_count": 22,
      "outputs": [
        {
          "output_type": "stream",
          "name": "stderr",
          "text": [
            "/usr/local/lib/python3.10/dist-packages/keras/src/layers/core/embedding.py:90: UserWarning: Argument `input_length` is deprecated. Just remove it.\n",
            "  warnings.warn(\n"
          ]
        }
      ]
    },
    {
      "cell_type": "markdown",
      "source": [
        "##Compile the model:"
      ],
      "metadata": {
        "id": "q2S20aDvydPG"
      }
    },
    {
      "cell_type": "code",
      "source": [
        "model.compile(loss='categorical_crossentropy', optimizer='adam', metrics=['accuracy'])\n",
        "hist = model.fit(x,y, batch_size = 128, epochs = 100)"
      ],
      "metadata": {
        "colab": {
          "base_uri": "https://localhost:8080/"
        },
        "id": "c8vtQAJ4yL44",
        "outputId": "560a0bd4-9abe-4b31-dc65-ed8ff6fe7ec6"
      },
      "execution_count": 23,
      "outputs": [
        {
          "output_type": "stream",
          "name": "stdout",
          "text": [
            "Epoch 1/100\n",
            "\u001b[1m927/927\u001b[0m \u001b[32m━━━━━━━━━━━━━━━━━━━━\u001b[0m\u001b[37m\u001b[0m \u001b[1m22s\u001b[0m 16ms/step - accuracy: 0.0627 - loss: 6.4585\n",
            "Epoch 2/100\n",
            "\u001b[1m927/927\u001b[0m \u001b[32m━━━━━━━━━━━━━━━━━━━━\u001b[0m\u001b[37m\u001b[0m \u001b[1m14s\u001b[0m 16ms/step - accuracy: 0.1057 - loss: 5.6817\n",
            "Epoch 3/100\n",
            "\u001b[1m927/927\u001b[0m \u001b[32m━━━━━━━━━━━━━━━━━━━━\u001b[0m\u001b[37m\u001b[0m \u001b[1m21s\u001b[0m 16ms/step - accuracy: 0.1297 - loss: 5.4468\n",
            "Epoch 4/100\n",
            "\u001b[1m927/927\u001b[0m \u001b[32m━━━━━━━━━━━━━━━━━━━━\u001b[0m\u001b[37m\u001b[0m \u001b[1m21s\u001b[0m 16ms/step - accuracy: 0.1481 - loss: 5.2679\n",
            "Epoch 5/100\n",
            "\u001b[1m927/927\u001b[0m \u001b[32m━━━━━━━━━━━━━━━━━━━━\u001b[0m\u001b[37m\u001b[0m \u001b[1m20s\u001b[0m 16ms/step - accuracy: 0.1550 - loss: 5.1466\n",
            "Epoch 6/100\n",
            "\u001b[1m927/927\u001b[0m \u001b[32m━━━━━━━━━━━━━━━━━━━━\u001b[0m\u001b[37m\u001b[0m \u001b[1m21s\u001b[0m 16ms/step - accuracy: 0.1656 - loss: 5.0250\n",
            "Epoch 7/100\n",
            "\u001b[1m927/927\u001b[0m \u001b[32m━━━━━━━━━━━━━━━━━━━━\u001b[0m\u001b[37m\u001b[0m \u001b[1m20s\u001b[0m 16ms/step - accuracy: 0.1733 - loss: 4.9231\n",
            "Epoch 8/100\n",
            "\u001b[1m927/927\u001b[0m \u001b[32m━━━━━━━━━━━━━━━━━━━━\u001b[0m\u001b[37m\u001b[0m \u001b[1m14s\u001b[0m 16ms/step - accuracy: 0.1772 - loss: 4.8291\n",
            "Epoch 9/100\n",
            "\u001b[1m927/927\u001b[0m \u001b[32m━━━━━━━━━━━━━━━━━━━━\u001b[0m\u001b[37m\u001b[0m \u001b[1m20s\u001b[0m 15ms/step - accuracy: 0.1832 - loss: 4.7375\n",
            "Epoch 10/100\n",
            "\u001b[1m927/927\u001b[0m \u001b[32m━━━━━━━━━━━━━━━━━━━━\u001b[0m\u001b[37m\u001b[0m \u001b[1m21s\u001b[0m 15ms/step - accuracy: 0.1888 - loss: 4.6557\n",
            "Epoch 11/100\n",
            "\u001b[1m927/927\u001b[0m \u001b[32m━━━━━━━━━━━━━━━━━━━━\u001b[0m\u001b[37m\u001b[0m \u001b[1m20s\u001b[0m 15ms/step - accuracy: 0.1910 - loss: 4.5882\n",
            "Epoch 12/100\n",
            "\u001b[1m927/927\u001b[0m \u001b[32m━━━━━━━━━━━━━━━━━━━━\u001b[0m\u001b[37m\u001b[0m \u001b[1m20s\u001b[0m 15ms/step - accuracy: 0.1961 - loss: 4.5114\n",
            "Epoch 13/100\n",
            "\u001b[1m927/927\u001b[0m \u001b[32m━━━━━━━━━━━━━━━━━━━━\u001b[0m\u001b[37m\u001b[0m \u001b[1m20s\u001b[0m 15ms/step - accuracy: 0.1978 - loss: 4.4463\n",
            "Epoch 14/100\n",
            "\u001b[1m927/927\u001b[0m \u001b[32m━━━━━━━━━━━━━━━━━━━━\u001b[0m\u001b[37m\u001b[0m \u001b[1m21s\u001b[0m 15ms/step - accuracy: 0.2037 - loss: 4.3733\n",
            "Epoch 15/100\n",
            "\u001b[1m927/927\u001b[0m \u001b[32m━━━━━━━━━━━━━━━━━━━━\u001b[0m\u001b[37m\u001b[0m \u001b[1m15s\u001b[0m 16ms/step - accuracy: 0.2055 - loss: 4.3189\n",
            "Epoch 16/100\n",
            "\u001b[1m927/927\u001b[0m \u001b[32m━━━━━━━━━━━━━━━━━━━━\u001b[0m\u001b[37m\u001b[0m \u001b[1m20s\u001b[0m 15ms/step - accuracy: 0.2067 - loss: 4.2646\n",
            "Epoch 17/100\n",
            "\u001b[1m927/927\u001b[0m \u001b[32m━━━━━━━━━━━━━━━━━━━━\u001b[0m\u001b[37m\u001b[0m \u001b[1m14s\u001b[0m 15ms/step - accuracy: 0.2094 - loss: 4.2083\n",
            "Epoch 18/100\n",
            "\u001b[1m927/927\u001b[0m \u001b[32m━━━━━━━━━━━━━━━━━━━━\u001b[0m\u001b[37m\u001b[0m \u001b[1m21s\u001b[0m 15ms/step - accuracy: 0.2156 - loss: 4.1429\n",
            "Epoch 19/100\n",
            "\u001b[1m927/927\u001b[0m \u001b[32m━━━━━━━━━━━━━━━━━━━━\u001b[0m\u001b[37m\u001b[0m \u001b[1m21s\u001b[0m 16ms/step - accuracy: 0.2193 - loss: 4.0935\n",
            "Epoch 20/100\n",
            "\u001b[1m927/927\u001b[0m \u001b[32m━━━━━━━━━━━━━━━━━━━━\u001b[0m\u001b[37m\u001b[0m \u001b[1m20s\u001b[0m 15ms/step - accuracy: 0.2204 - loss: 4.0585\n",
            "Epoch 21/100\n",
            "\u001b[1m927/927\u001b[0m \u001b[32m━━━━━━━━━━━━━━━━━━━━\u001b[0m\u001b[37m\u001b[0m \u001b[1m21s\u001b[0m 16ms/step - accuracy: 0.2266 - loss: 4.0088\n",
            "Epoch 22/100\n",
            "\u001b[1m927/927\u001b[0m \u001b[32m━━━━━━━━━━━━━━━━━━━━\u001b[0m\u001b[37m\u001b[0m \u001b[1m21s\u001b[0m 16ms/step - accuracy: 0.2274 - loss: 3.9764\n",
            "Epoch 23/100\n",
            "\u001b[1m927/927\u001b[0m \u001b[32m━━━━━━━━━━━━━━━━━━━━\u001b[0m\u001b[37m\u001b[0m \u001b[1m15s\u001b[0m 16ms/step - accuracy: 0.2333 - loss: 3.9295\n",
            "Epoch 24/100\n",
            "\u001b[1m927/927\u001b[0m \u001b[32m━━━━━━━━━━━━━━━━━━━━\u001b[0m\u001b[37m\u001b[0m \u001b[1m14s\u001b[0m 16ms/step - accuracy: 0.2349 - loss: 3.8983\n",
            "Epoch 25/100\n",
            "\u001b[1m927/927\u001b[0m \u001b[32m━━━━━━━━━━━━━━━━━━━━\u001b[0m\u001b[37m\u001b[0m \u001b[1m14s\u001b[0m 15ms/step - accuracy: 0.2403 - loss: 3.8570\n",
            "Epoch 26/100\n",
            "\u001b[1m927/927\u001b[0m \u001b[32m━━━━━━━━━━━━━━━━━━━━\u001b[0m\u001b[37m\u001b[0m \u001b[1m20s\u001b[0m 15ms/step - accuracy: 0.2472 - loss: 3.8055\n",
            "Epoch 27/100\n",
            "\u001b[1m927/927\u001b[0m \u001b[32m━━━━━━━━━━━━━━━━━━━━\u001b[0m\u001b[37m\u001b[0m \u001b[1m21s\u001b[0m 15ms/step - accuracy: 0.2470 - loss: 3.7865\n",
            "Epoch 28/100\n",
            "\u001b[1m927/927\u001b[0m \u001b[32m━━━━━━━━━━━━━━━━━━━━\u001b[0m\u001b[37m\u001b[0m \u001b[1m21s\u001b[0m 15ms/step - accuracy: 0.2511 - loss: 3.7534\n",
            "Epoch 29/100\n",
            "\u001b[1m927/927\u001b[0m \u001b[32m━━━━━━━━━━━━━━━━━━━━\u001b[0m\u001b[37m\u001b[0m \u001b[1m21s\u001b[0m 16ms/step - accuracy: 0.2535 - loss: 3.7201\n",
            "Epoch 30/100\n",
            "\u001b[1m927/927\u001b[0m \u001b[32m━━━━━━━━━━━━━━━━━━━━\u001b[0m\u001b[37m\u001b[0m \u001b[1m21s\u001b[0m 16ms/step - accuracy: 0.2571 - loss: 3.6969\n",
            "Epoch 31/100\n",
            "\u001b[1m927/927\u001b[0m \u001b[32m━━━━━━━━━━━━━━━━━━━━\u001b[0m\u001b[37m\u001b[0m \u001b[1m20s\u001b[0m 16ms/step - accuracy: 0.2604 - loss: 3.6635\n",
            "Epoch 32/100\n",
            "\u001b[1m927/927\u001b[0m \u001b[32m━━━━━━━━━━━━━━━━━━━━\u001b[0m\u001b[37m\u001b[0m \u001b[1m15s\u001b[0m 16ms/step - accuracy: 0.2644 - loss: 3.6441\n",
            "Epoch 33/100\n",
            "\u001b[1m927/927\u001b[0m \u001b[32m━━━━━━━━━━━━━━━━━━━━\u001b[0m\u001b[37m\u001b[0m \u001b[1m15s\u001b[0m 16ms/step - accuracy: 0.2669 - loss: 3.6132\n",
            "Epoch 34/100\n",
            "\u001b[1m927/927\u001b[0m \u001b[32m━━━━━━━━━━━━━━━━━━━━\u001b[0m\u001b[37m\u001b[0m \u001b[1m21s\u001b[0m 16ms/step - accuracy: 0.2727 - loss: 3.5760\n",
            "Epoch 35/100\n",
            "\u001b[1m927/927\u001b[0m \u001b[32m━━━━━━━━━━━━━━━━━━━━\u001b[0m\u001b[37m\u001b[0m \u001b[1m14s\u001b[0m 15ms/step - accuracy: 0.2753 - loss: 3.5541\n",
            "Epoch 36/100\n",
            "\u001b[1m927/927\u001b[0m \u001b[32m━━━━━━━━━━━━━━━━━━━━\u001b[0m\u001b[37m\u001b[0m \u001b[1m21s\u001b[0m 16ms/step - accuracy: 0.2774 - loss: 3.5246\n",
            "Epoch 37/100\n",
            "\u001b[1m927/927\u001b[0m \u001b[32m━━━━━━━━━━━━━━━━━━━━\u001b[0m\u001b[37m\u001b[0m \u001b[1m20s\u001b[0m 16ms/step - accuracy: 0.2802 - loss: 3.5139\n",
            "Epoch 38/100\n",
            "\u001b[1m927/927\u001b[0m \u001b[32m━━━━━━━━━━━━━━━━━━━━\u001b[0m\u001b[37m\u001b[0m \u001b[1m20s\u001b[0m 15ms/step - accuracy: 0.2827 - loss: 3.4743\n",
            "Epoch 39/100\n",
            "\u001b[1m927/927\u001b[0m \u001b[32m━━━━━━━━━━━━━━━━━━━━\u001b[0m\u001b[37m\u001b[0m \u001b[1m15s\u001b[0m 16ms/step - accuracy: 0.2896 - loss: 3.4436\n",
            "Epoch 40/100\n",
            "\u001b[1m927/927\u001b[0m \u001b[32m━━━━━━━━━━━━━━━━━━━━\u001b[0m\u001b[37m\u001b[0m \u001b[1m20s\u001b[0m 16ms/step - accuracy: 0.2907 - loss: 3.4224\n",
            "Epoch 41/100\n",
            "\u001b[1m927/927\u001b[0m \u001b[32m━━━━━━━━━━━━━━━━━━━━\u001b[0m\u001b[37m\u001b[0m \u001b[1m20s\u001b[0m 15ms/step - accuracy: 0.2951 - loss: 3.3902\n",
            "Epoch 42/100\n",
            "\u001b[1m927/927\u001b[0m \u001b[32m━━━━━━━━━━━━━━━━━━━━\u001b[0m\u001b[37m\u001b[0m \u001b[1m20s\u001b[0m 15ms/step - accuracy: 0.2982 - loss: 3.3724\n",
            "Epoch 43/100\n",
            "\u001b[1m927/927\u001b[0m \u001b[32m━━━━━━━━━━━━━━━━━━━━\u001b[0m\u001b[37m\u001b[0m \u001b[1m21s\u001b[0m 16ms/step - accuracy: 0.2983 - loss: 3.3566\n",
            "Epoch 44/100\n",
            "\u001b[1m927/927\u001b[0m \u001b[32m━━━━━━━━━━━━━━━━━━━━\u001b[0m\u001b[37m\u001b[0m \u001b[1m20s\u001b[0m 15ms/step - accuracy: 0.3051 - loss: 3.3261\n",
            "Epoch 45/100\n",
            "\u001b[1m927/927\u001b[0m \u001b[32m━━━━━━━━━━━━━━━━━━━━\u001b[0m\u001b[37m\u001b[0m \u001b[1m21s\u001b[0m 16ms/step - accuracy: 0.3087 - loss: 3.2987\n",
            "Epoch 46/100\n",
            "\u001b[1m927/927\u001b[0m \u001b[32m━━━━━━━━━━━━━━━━━━━━\u001b[0m\u001b[37m\u001b[0m \u001b[1m14s\u001b[0m 15ms/step - accuracy: 0.3152 - loss: 3.2677\n",
            "Epoch 47/100\n",
            "\u001b[1m927/927\u001b[0m \u001b[32m━━━━━━━━━━━━━━━━━━━━\u001b[0m\u001b[37m\u001b[0m \u001b[1m14s\u001b[0m 15ms/step - accuracy: 0.3154 - loss: 3.2542\n",
            "Epoch 48/100\n",
            "\u001b[1m927/927\u001b[0m \u001b[32m━━━━━━━━━━━━━━━━━━━━\u001b[0m\u001b[37m\u001b[0m \u001b[1m14s\u001b[0m 15ms/step - accuracy: 0.3189 - loss: 3.2367\n",
            "Epoch 49/100\n",
            "\u001b[1m927/927\u001b[0m \u001b[32m━━━━━━━━━━━━━━━━━━━━\u001b[0m\u001b[37m\u001b[0m \u001b[1m21s\u001b[0m 16ms/step - accuracy: 0.3211 - loss: 3.2163\n",
            "Epoch 50/100\n",
            "\u001b[1m927/927\u001b[0m \u001b[32m━━━━━━━━━━━━━━━━━━━━\u001b[0m\u001b[37m\u001b[0m \u001b[1m14s\u001b[0m 15ms/step - accuracy: 0.3232 - loss: 3.1931\n",
            "Epoch 51/100\n",
            "\u001b[1m927/927\u001b[0m \u001b[32m━━━━━━━━━━━━━━━━━━━━\u001b[0m\u001b[37m\u001b[0m \u001b[1m21s\u001b[0m 15ms/step - accuracy: 0.3269 - loss: 3.1799\n",
            "Epoch 52/100\n",
            "\u001b[1m927/927\u001b[0m \u001b[32m━━━━━━━━━━━━━━━━━━━━\u001b[0m\u001b[37m\u001b[0m \u001b[1m14s\u001b[0m 15ms/step - accuracy: 0.3289 - loss: 3.1543\n",
            "Epoch 53/100\n",
            "\u001b[1m927/927\u001b[0m \u001b[32m━━━━━━━━━━━━━━━━━━━━\u001b[0m\u001b[37m\u001b[0m \u001b[1m21s\u001b[0m 16ms/step - accuracy: 0.3342 - loss: 3.1227\n",
            "Epoch 54/100\n",
            "\u001b[1m927/927\u001b[0m \u001b[32m━━━━━━━━━━━━━━━━━━━━\u001b[0m\u001b[37m\u001b[0m \u001b[1m21s\u001b[0m 16ms/step - accuracy: 0.3371 - loss: 3.1146\n",
            "Epoch 55/100\n",
            "\u001b[1m927/927\u001b[0m \u001b[32m━━━━━━━━━━━━━━━━━━━━\u001b[0m\u001b[37m\u001b[0m \u001b[1m20s\u001b[0m 15ms/step - accuracy: 0.3403 - loss: 3.0895\n",
            "Epoch 56/100\n",
            "\u001b[1m927/927\u001b[0m \u001b[32m━━━━━━━━━━━━━━━━━━━━\u001b[0m\u001b[37m\u001b[0m \u001b[1m14s\u001b[0m 15ms/step - accuracy: 0.3439 - loss: 3.0675\n",
            "Epoch 57/100\n",
            "\u001b[1m927/927\u001b[0m \u001b[32m━━━━━━━━━━━━━━━━━━━━\u001b[0m\u001b[37m\u001b[0m \u001b[1m21s\u001b[0m 16ms/step - accuracy: 0.3467 - loss: 3.0536\n",
            "Epoch 58/100\n",
            "\u001b[1m927/927\u001b[0m \u001b[32m━━━━━━━━━━━━━━━━━━━━\u001b[0m\u001b[37m\u001b[0m \u001b[1m20s\u001b[0m 15ms/step - accuracy: 0.3453 - loss: 3.0413\n",
            "Epoch 59/100\n",
            "\u001b[1m927/927\u001b[0m \u001b[32m━━━━━━━━━━━━━━━━━━━━\u001b[0m\u001b[37m\u001b[0m \u001b[1m21s\u001b[0m 16ms/step - accuracy: 0.3544 - loss: 3.0092\n",
            "Epoch 60/100\n",
            "\u001b[1m927/927\u001b[0m \u001b[32m━━━━━━━━━━━━━━━━━━━━\u001b[0m\u001b[37m\u001b[0m \u001b[1m20s\u001b[0m 15ms/step - accuracy: 0.3556 - loss: 2.9931\n",
            "Epoch 61/100\n",
            "\u001b[1m927/927\u001b[0m \u001b[32m━━━━━━━━━━━━━━━━━━━━\u001b[0m\u001b[37m\u001b[0m \u001b[1m20s\u001b[0m 15ms/step - accuracy: 0.3604 - loss: 2.9692\n",
            "Epoch 62/100\n",
            "\u001b[1m927/927\u001b[0m \u001b[32m━━━━━━━━━━━━━━━━━━━━\u001b[0m\u001b[37m\u001b[0m \u001b[1m21s\u001b[0m 16ms/step - accuracy: 0.3600 - loss: 2.9583\n",
            "Epoch 63/100\n",
            "\u001b[1m927/927\u001b[0m \u001b[32m━━━━━━━━━━━━━━━━━━━━\u001b[0m\u001b[37m\u001b[0m \u001b[1m20s\u001b[0m 16ms/step - accuracy: 0.3640 - loss: 2.9447\n",
            "Epoch 64/100\n",
            "\u001b[1m927/927\u001b[0m \u001b[32m━━━━━━━━━━━━━━━━━━━━\u001b[0m\u001b[37m\u001b[0m \u001b[1m20s\u001b[0m 15ms/step - accuracy: 0.3664 - loss: 2.9250\n",
            "Epoch 65/100\n",
            "\u001b[1m927/927\u001b[0m \u001b[32m━━━━━━━━━━━━━━━━━━━━\u001b[0m\u001b[37m\u001b[0m \u001b[1m20s\u001b[0m 15ms/step - accuracy: 0.3676 - loss: 2.9157\n",
            "Epoch 66/100\n",
            "\u001b[1m927/927\u001b[0m \u001b[32m━━━━━━━━━━━━━━━━━━━━\u001b[0m\u001b[37m\u001b[0m \u001b[1m14s\u001b[0m 15ms/step - accuracy: 0.3740 - loss: 2.8890\n",
            "Epoch 67/100\n",
            "\u001b[1m927/927\u001b[0m \u001b[32m━━━━━━━━━━━━━━━━━━━━\u001b[0m\u001b[37m\u001b[0m \u001b[1m21s\u001b[0m 16ms/step - accuracy: 0.3747 - loss: 2.8734\n",
            "Epoch 68/100\n",
            "\u001b[1m927/927\u001b[0m \u001b[32m━━━━━━━━━━━━━━━━━━━━\u001b[0m\u001b[37m\u001b[0m \u001b[1m21s\u001b[0m 16ms/step - accuracy: 0.3797 - loss: 2.8505\n",
            "Epoch 69/100\n",
            "\u001b[1m927/927\u001b[0m \u001b[32m━━━━━━━━━━━━━━━━━━━━\u001b[0m\u001b[37m\u001b[0m \u001b[1m14s\u001b[0m 15ms/step - accuracy: 0.3808 - loss: 2.8307\n",
            "Epoch 70/100\n",
            "\u001b[1m927/927\u001b[0m \u001b[32m━━━━━━━━━━━━━━━━━━━━\u001b[0m\u001b[37m\u001b[0m \u001b[1m15s\u001b[0m 16ms/step - accuracy: 0.3826 - loss: 2.8283\n",
            "Epoch 71/100\n",
            "\u001b[1m927/927\u001b[0m \u001b[32m━━━━━━━━━━━━━━━━━━━━\u001b[0m\u001b[37m\u001b[0m \u001b[1m20s\u001b[0m 15ms/step - accuracy: 0.3879 - loss: 2.7966\n",
            "Epoch 72/100\n",
            "\u001b[1m927/927\u001b[0m \u001b[32m━━━━━━━━━━━━━━━━━━━━\u001b[0m\u001b[37m\u001b[0m \u001b[1m20s\u001b[0m 15ms/step - accuracy: 0.3878 - loss: 2.7961\n",
            "Epoch 73/100\n",
            "\u001b[1m927/927\u001b[0m \u001b[32m━━━━━━━━━━━━━━━━━━━━\u001b[0m\u001b[37m\u001b[0m \u001b[1m14s\u001b[0m 15ms/step - accuracy: 0.3921 - loss: 2.7740\n",
            "Epoch 74/100\n",
            "\u001b[1m927/927\u001b[0m \u001b[32m━━━━━━━━━━━━━━━━━━━━\u001b[0m\u001b[37m\u001b[0m \u001b[1m20s\u001b[0m 15ms/step - accuracy: 0.3937 - loss: 2.7611\n",
            "Epoch 75/100\n",
            "\u001b[1m927/927\u001b[0m \u001b[32m━━━━━━━━━━━━━━━━━━━━\u001b[0m\u001b[37m\u001b[0m \u001b[1m21s\u001b[0m 15ms/step - accuracy: 0.4003 - loss: 2.7397\n",
            "Epoch 76/100\n",
            "\u001b[1m927/927\u001b[0m \u001b[32m━━━━━━━━━━━━━━━━━━━━\u001b[0m\u001b[37m\u001b[0m \u001b[1m21s\u001b[0m 15ms/step - accuracy: 0.3993 - loss: 2.7358\n",
            "Epoch 77/100\n",
            "\u001b[1m927/927\u001b[0m \u001b[32m━━━━━━━━━━━━━━━━━━━━\u001b[0m\u001b[37m\u001b[0m \u001b[1m14s\u001b[0m 15ms/step - accuracy: 0.4033 - loss: 2.7154\n",
            "Epoch 78/100\n",
            "\u001b[1m927/927\u001b[0m \u001b[32m━━━━━━━━━━━━━━━━━━━━\u001b[0m\u001b[37m\u001b[0m \u001b[1m21s\u001b[0m 15ms/step - accuracy: 0.4067 - loss: 2.6952\n",
            "Epoch 79/100\n",
            "\u001b[1m927/927\u001b[0m \u001b[32m━━━━━━━━━━━━━━━━━━━━\u001b[0m\u001b[37m\u001b[0m \u001b[1m21s\u001b[0m 16ms/step - accuracy: 0.4100 - loss: 2.6755\n",
            "Epoch 80/100\n",
            "\u001b[1m927/927\u001b[0m \u001b[32m━━━━━━━━━━━━━━━━━━━━\u001b[0m\u001b[37m\u001b[0m \u001b[1m20s\u001b[0m 15ms/step - accuracy: 0.4088 - loss: 2.6717\n",
            "Epoch 81/100\n",
            "\u001b[1m927/927\u001b[0m \u001b[32m━━━━━━━━━━━━━━━━━━━━\u001b[0m\u001b[37m\u001b[0m \u001b[1m15s\u001b[0m 16ms/step - accuracy: 0.4168 - loss: 2.6429\n",
            "Epoch 82/100\n",
            "\u001b[1m927/927\u001b[0m \u001b[32m━━━━━━━━━━━━━━━━━━━━\u001b[0m\u001b[37m\u001b[0m \u001b[1m20s\u001b[0m 16ms/step - accuracy: 0.4195 - loss: 2.6255\n",
            "Epoch 83/100\n",
            "\u001b[1m927/927\u001b[0m \u001b[32m━━━━━━━━━━━━━━━━━━━━\u001b[0m\u001b[37m\u001b[0m \u001b[1m21s\u001b[0m 16ms/step - accuracy: 0.4225 - loss: 2.6093\n",
            "Epoch 84/100\n",
            "\u001b[1m927/927\u001b[0m \u001b[32m━━━━━━━━━━━━━━━━━━━━\u001b[0m\u001b[37m\u001b[0m \u001b[1m14s\u001b[0m 15ms/step - accuracy: 0.4253 - loss: 2.5940\n",
            "Epoch 85/100\n",
            "\u001b[1m927/927\u001b[0m \u001b[32m━━━━━━━━━━━━━━━━━━━━\u001b[0m\u001b[37m\u001b[0m \u001b[1m14s\u001b[0m 15ms/step - accuracy: 0.4287 - loss: 2.5767\n",
            "Epoch 86/100\n",
            "\u001b[1m927/927\u001b[0m \u001b[32m━━━━━━━━━━━━━━━━━━━━\u001b[0m\u001b[37m\u001b[0m \u001b[1m14s\u001b[0m 15ms/step - accuracy: 0.4314 - loss: 2.5566\n",
            "Epoch 87/100\n",
            "\u001b[1m927/927\u001b[0m \u001b[32m━━━━━━━━━━━━━━━━━━━━\u001b[0m\u001b[37m\u001b[0m \u001b[1m14s\u001b[0m 15ms/step - accuracy: 0.4326 - loss: 2.5544\n",
            "Epoch 88/100\n",
            "\u001b[1m927/927\u001b[0m \u001b[32m━━━━━━━━━━━━━━━━━━━━\u001b[0m\u001b[37m\u001b[0m \u001b[1m20s\u001b[0m 15ms/step - accuracy: 0.4360 - loss: 2.5350\n",
            "Epoch 89/100\n",
            "\u001b[1m927/927\u001b[0m \u001b[32m━━━━━━━━━━━━━━━━━━━━\u001b[0m\u001b[37m\u001b[0m \u001b[1m21s\u001b[0m 16ms/step - accuracy: 0.4370 - loss: 2.5191\n",
            "Epoch 90/100\n",
            "\u001b[1m927/927\u001b[0m \u001b[32m━━━━━━━━━━━━━━━━━━━━\u001b[0m\u001b[37m\u001b[0m \u001b[1m14s\u001b[0m 16ms/step - accuracy: 0.4423 - loss: 2.5047\n",
            "Epoch 91/100\n",
            "\u001b[1m927/927\u001b[0m \u001b[32m━━━━━━━━━━━━━━━━━━━━\u001b[0m\u001b[37m\u001b[0m \u001b[1m20s\u001b[0m 15ms/step - accuracy: 0.4421 - loss: 2.4959\n",
            "Epoch 92/100\n",
            "\u001b[1m927/927\u001b[0m \u001b[32m━━━━━━━━━━━━━━━━━━━━\u001b[0m\u001b[37m\u001b[0m \u001b[1m20s\u001b[0m 15ms/step - accuracy: 0.4461 - loss: 2.4764\n",
            "Epoch 93/100\n",
            "\u001b[1m927/927\u001b[0m \u001b[32m━━━━━━━━━━━━━━━━━━━━\u001b[0m\u001b[37m\u001b[0m \u001b[1m21s\u001b[0m 16ms/step - accuracy: 0.4501 - loss: 2.4548\n",
            "Epoch 94/100\n",
            "\u001b[1m927/927\u001b[0m \u001b[32m━━━━━━━━━━━━━━━━━━━━\u001b[0m\u001b[37m\u001b[0m \u001b[1m20s\u001b[0m 15ms/step - accuracy: 0.4501 - loss: 2.4460\n",
            "Epoch 95/100\n",
            "\u001b[1m927/927\u001b[0m \u001b[32m━━━━━━━━━━━━━━━━━━━━\u001b[0m\u001b[37m\u001b[0m \u001b[1m20s\u001b[0m 15ms/step - accuracy: 0.4568 - loss: 2.4253\n",
            "Epoch 96/100\n",
            "\u001b[1m927/927\u001b[0m \u001b[32m━━━━━━━━━━━━━━━━━━━━\u001b[0m\u001b[37m\u001b[0m \u001b[1m20s\u001b[0m 15ms/step - accuracy: 0.4562 - loss: 2.4199\n",
            "Epoch 97/100\n",
            "\u001b[1m927/927\u001b[0m \u001b[32m━━━━━━━━━━━━━━━━━━━━\u001b[0m\u001b[37m\u001b[0m \u001b[1m21s\u001b[0m 15ms/step - accuracy: 0.4586 - loss: 2.4060\n",
            "Epoch 98/100\n",
            "\u001b[1m927/927\u001b[0m \u001b[32m━━━━━━━━━━━━━━━━━━━━\u001b[0m\u001b[37m\u001b[0m \u001b[1m15s\u001b[0m 16ms/step - accuracy: 0.4585 - loss: 2.3941\n",
            "Epoch 99/100\n",
            "\u001b[1m927/927\u001b[0m \u001b[32m━━━━━━━━━━━━━━━━━━━━\u001b[0m\u001b[37m\u001b[0m \u001b[1m20s\u001b[0m 15ms/step - accuracy: 0.4632 - loss: 2.3818\n",
            "Epoch 100/100\n",
            "\u001b[1m927/927\u001b[0m \u001b[32m━━━━━━━━━━━━━━━━━━━━\u001b[0m\u001b[37m\u001b[0m \u001b[1m21s\u001b[0m 15ms/step - accuracy: 0.4668 - loss: 2.3646\n"
          ]
        }
      ]
    },
    {
      "cell_type": "markdown",
      "source": [
        "### Take a Copy of the Model:"
      ],
      "metadata": {
        "id": "PDVT6tvqUF2u"
      }
    },
    {
      "cell_type": "code",
      "source": [
        "#Save the model\n",
        "model.save('model.h5')"
      ],
      "metadata": {
        "colab": {
          "base_uri": "https://localhost:8080/"
        },
        "id": "Mw3KcsEHUJvv",
        "outputId": "32ae838d-d409-4183-90f9-b0149b1a74ba"
      },
      "execution_count": 24,
      "outputs": [
        {
          "output_type": "stream",
          "name": "stderr",
          "text": [
            "WARNING:absl:You are saving your model as an HDF5 file via `model.save()` or `keras.saving.save_model(model)`. This file format is considered legacy. We recommend using instead the native Keras format, e.g. `model.save('my_model.keras')` or `keras.saving.save_model(model, 'my_model.keras')`. \n"
          ]
        }
      ]
    },
    {
      "cell_type": "code",
      "source": [
        "#take a copy of the tokenizer\n",
        "dump(tokenizer, open('tokenizer.pkl', 'wb'))"
      ],
      "metadata": {
        "id": "TfYOmeRMULqx"
      },
      "execution_count": 25,
      "outputs": []
    },
    {
      "cell_type": "markdown",
      "source": [
        "### INFERENCE PIPELINE:\n",
        "\n",
        "\n",
        "1. Random Text\n",
        "2. Tokenizer\n",
        "3. Padding for fixed length\n",
        "4. Predict\n",
        "5. Use predicted values in tokenizer to generate the text"
      ],
      "metadata": {
        "id": "43_6ruxWVgE3"
      }
    },
    {
      "cell_type": "code",
      "source": [
        "len(lines[0].split())"
      ],
      "metadata": {
        "colab": {
          "base_uri": "https://localhost:8080/"
        },
        "id": "Y3yMDxzWVcNM",
        "outputId": "6b6d1420-44d7-4726-dbf3-62e15f8e4ada"
      },
      "execution_count": 26,
      "outputs": [
        {
          "output_type": "execute_result",
          "data": {
            "text/plain": [
              "50"
            ]
          },
          "metadata": {},
          "execution_count": 26
        }
      ]
    },
    {
      "cell_type": "code",
      "source": [
        "seq_length = len(lines[0].split())-1"
      ],
      "metadata": {
        "id": "CDDjalDmVmOi"
      },
      "execution_count": 27,
      "outputs": []
    },
    {
      "cell_type": "code",
      "source": [
        "# generate a sequence from a language model\n",
        "def generate_seq(model, tokenizer, seq_length, seed_text, n_words):\n",
        "    result = list()\n",
        "    in_text = seed_text\n",
        "    # generate a fixed number of words\n",
        "    for _ in range(n_words):\n",
        "        # encode the text as integer\n",
        "        encoded = tokenizer.texts_to_sequences([in_text])[0]\n",
        "        # truncate sequences to a fixed length\n",
        "        encoded = pad_sequences([encoded], maxlen=seq_length, truncating='pre')\n",
        "        # predict probabilities for each word\n",
        "        yhat = model.predict(encoded, verbose=0)\n",
        "        # map predicted word index to word\n",
        "        out_word = ''\n",
        "        for word, index in tokenizer.word_index.items():\n",
        "            if index == np.argmax(yhat):\n",
        "                out_word = word\n",
        "                break\n",
        "        # append to input\n",
        "        in_text += ' ' + out_word\n",
        "        result.append(out_word)\n",
        "    return ' '.join(result)\n",
        "\n",
        "\n",
        "# load the model\n",
        "model = load_model('model.h5')\n",
        "\n",
        "# load the tokenizer\n",
        "tokenizer = load(open('tokenizer.pkl', 'rb'))\n",
        "\n",
        "# select a seed text\n",
        "seed_text = lines[randint(0,len(lines))]\n",
        "print(\"seed_text:\" + '\\n')\n",
        "print(seed_text + '\\n')\n",
        "\n",
        "# generate new text\n",
        "generated = generate_seq(model, tokenizer, seq_length, seed_text, 50)\n",
        "print(\"generated_text:\" + '\\n')\n",
        "print(generated)"
      ],
      "metadata": {
        "colab": {
          "base_uri": "https://localhost:8080/"
        },
        "id": "pf9Cyn08VoBU",
        "outputId": "3d6f1090-0272-46ec-eea8-fe8cc4805a79"
      },
      "execution_count": 28,
      "outputs": [
        {
          "output_type": "stream",
          "name": "stderr",
          "text": [
            "WARNING:absl:Compiled the loaded model, but the compiled metrics have yet to be built. `model.compile_metrics` will be empty until you train or evaluate the model.\n"
          ]
        },
        {
          "output_type": "stream",
          "name": "stdout",
          "text": [
            "seed_text:\n",
            "\n",
            "from a distance and it occurred to some one else that they might be found in another place which was larger and in which the letters were larger if they were the same and he could read the larger letters first and then proceed to the lesser this would have\n",
            "\n",
            "generated_text:\n",
            "\n",
            "been a circumcision of such natures are to be assigned to them but the same is true of the absence of thing which he is not to be allowed to do heaven and are not the same control itself to be sure he said and i should like to know\n"
          ]
        }
      ]
    },
    {
      "cell_type": "code",
      "source": [
        "print(len(generated))"
      ],
      "metadata": {
        "colab": {
          "base_uri": "https://localhost:8080/"
        },
        "id": "-DHnZXmmVz3Z",
        "outputId": "8b7fdd3d-655e-4552-dc56-992cae9d4c1e"
      },
      "execution_count": 29,
      "outputs": [
        {
          "output_type": "stream",
          "name": "stdout",
          "text": [
            "231\n"
          ]
        }
      ]
    },
    {
      "cell_type": "code",
      "source": [],
      "metadata": {
        "id": "6hncqhCvV3qG"
      },
      "execution_count": null,
      "outputs": []
    }
  ]
}